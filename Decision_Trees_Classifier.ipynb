{
 "cells": [
  {
   "cell_type": "code",
   "execution_count": 1,
   "id": "8765ded2",
   "metadata": {
    "scrolled": false
   },
   "outputs": [
    {
     "name": "stdout",
     "output_type": "stream",
     "text": [
      "     outlook temperature humidity    wind playtennis\n",
      "0      sunny         hot     high    weak         no\n",
      "1      sunny         hot     high  strong         no\n",
      "2   overcast         hot     high    weak        yes\n",
      "3       rain        mild     high    weak        yes\n",
      "4       rain        cool   normal    weak        yes\n",
      "5       rain        cool   normal  strong         no\n",
      "6   overcast        cool   normal  strong        yes\n",
      "7      sunny        mild     high    weak         no\n",
      "8      sunny        cool   normal    weak        yes\n",
      "9       rain        mild   normal    weak        yes\n",
      "10     sunny        mild   normal  strong        yes\n",
      "11  overcast        mild     high  strong        yes\n",
      "12  overcast         hot   normal    weak        yes\n",
      "13      rain        mild     high  strong         no\n"
     ]
    }
   ],
   "source": [
    "import pandas as pd\n",
    "\n",
    "data = pd.read_csv(\"playtennis.csv\")\n",
    "print(data)"
   ]
  },
  {
   "cell_type": "code",
   "execution_count": 2,
   "id": "9918378a",
   "metadata": {
    "scrolled": true
   },
   "outputs": [
    {
     "name": "stdout",
     "output_type": "stream",
     "text": [
      "    outlook  temperature  humidity  wind  playtennis\n",
      "0         2            1         0     1           0\n",
      "1         2            1         0     0           0\n",
      "2         0            1         0     1           1\n",
      "3         1            2         0     1           1\n",
      "4         1            0         1     1           1\n",
      "5         1            0         1     0           0\n",
      "6         0            0         1     0           1\n",
      "7         2            2         0     1           0\n",
      "8         2            0         1     1           1\n",
      "9         1            2         1     1           1\n",
      "10        2            2         1     0           1\n",
      "11        0            2         0     0           1\n",
      "12        0            1         1     1           1\n",
      "13        1            2         0     0           0\n"
     ]
    }
   ],
   "source": [
    "from sklearn.preprocessing import LabelEncoder\n",
    "\n",
    "le = LabelEncoder()\n",
    "data = data.apply(le.fit_transform)\n",
    "print(data)"
   ]
  },
  {
   "cell_type": "code",
   "execution_count": null,
   "id": "236544f8",
   "metadata": {},
   "outputs": [],
   "source": []
  },
  {
   "cell_type": "code",
   "execution_count": 3,
   "id": "4f566cb7",
   "metadata": {},
   "outputs": [],
   "source": [
    "X = data.iloc[:, 0:4]\n",
    "Y = data.iloc[:, 4]"
   ]
  },
  {
   "cell_type": "code",
   "execution_count": 4,
   "id": "9f47a18c",
   "metadata": {},
   "outputs": [
    {
     "name": "stdout",
     "output_type": "stream",
     "text": [
      "DecisionTreeClassifier(criterion='entropy', max_depth=3)\n"
     ]
    }
   ],
   "source": [
    "from sklearn.tree import DecisionTreeClassifier\n",
    "\n",
    "model = DecisionTreeClassifier(criterion='entropy',  max_depth=3).fit(X, Y)\n",
    "print(model)"
   ]
  },
  {
   "cell_type": "code",
   "execution_count": null,
   "id": "bfab668b",
   "metadata": {},
   "outputs": [],
   "source": []
  },
  {
   "cell_type": "code",
   "execution_count": 5,
   "id": "bdeb1068",
   "metadata": {},
   "outputs": [
    {
     "name": "stdout",
     "output_type": "stream",
     "text": [
      "[1]\n"
     ]
    }
   ],
   "source": [
    "# predict (overcast, hot, high, strong)=(0,1,0,0)\n",
    "\n",
    "new = {'outlook':[0], 'temperature':[1], 'humidity':[0], 'wind':[0]}\n",
    "#print(type(new)) # dictionary\n",
    "new = pd.DataFrame(new) # convert new to data frame\n",
    "pred_new = model.predict(new)\n",
    "print(pred_new)"
   ]
  },
  {
   "cell_type": "code",
   "execution_count": 6,
   "id": "204ec448",
   "metadata": {},
   "outputs": [
    {
     "name": "stdout",
     "output_type": "stream",
     "text": [
      "all =  [0 0 1 0 1 0 1 0 1 1 0 1 1 0]\n",
      "Y =    0     0\n",
      "1     0\n",
      "2     1\n",
      "3     1\n",
      "4     1\n",
      "5     0\n",
      "6     1\n",
      "7     0\n",
      "8     1\n",
      "9     1\n",
      "10    1\n",
      "11    1\n",
      "12    1\n",
      "13    0\n",
      "Name: playtennis, dtype: int32\n"
     ]
    }
   ],
   "source": [
    "pred_all = model.predict(X)\n",
    "\n",
    "print(\"all = \", pred_all)\n",
    "print(\"Y =   \", Y)"
   ]
  },
  {
   "cell_type": "code",
   "execution_count": 7,
   "id": "29610264",
   "metadata": {},
   "outputs": [
    {
     "data": {
      "text/plain": [
       "2"
      ]
     },
     "execution_count": 7,
     "metadata": {},
     "output_type": "execute_result"
    }
   ],
   "source": [
    "# how many errors\n",
    "\n",
    "abs(Y - pred_all).sum()"
   ]
  },
  {
   "cell_type": "code",
   "execution_count": 8,
   "id": "8f13a944",
   "metadata": {},
   "outputs": [
    {
     "name": "stdout",
     "output_type": "stream",
     "text": [
      "accuracy =  0.8571428571428571\n"
     ]
    }
   ],
   "source": [
    "# accuracy\n",
    "\n",
    "from sklearn.metrics import accuracy_score\n",
    "\n",
    "accuracy = accuracy_score(Y, pred_all)\n",
    "print(\"accuracy = \", accuracy) # if max_depth is 4 then 100%"
   ]
  },
  {
   "cell_type": "code",
   "execution_count": 9,
   "id": "207711d4",
   "metadata": {},
   "outputs": [
    {
     "data": {
      "text/plain": [
       "Index(['outlook', 'temperature', 'humidity', 'wind', 'playtennis'], dtype='object')"
      ]
     },
     "execution_count": 9,
     "metadata": {},
     "output_type": "execute_result"
    }
   ],
   "source": [
    "# find colunm names\n",
    "\n",
    "data.columns"
   ]
  },
  {
   "cell_type": "code",
   "execution_count": 10,
   "id": "a193d785",
   "metadata": {
    "scrolled": true
   },
   "outputs": [
    {
     "data": {
      "image/png": "[encoded data removed]",
      "text/plain": [
       "<Figure size 432x288 with 1 Axes>"
      ]
     },
     "metadata": {
      "needs_background": "light"
     },
     "output_type": "display_data"
    }
   ],
   "source": [
    "# plot decision tree\n",
    "\n",
    "from sklearn.tree import plot_tree\n",
    "plot_tree(model, feature_names=['outlook', 'temperature', 'humidity', 'wind'])\n",
    "\n",
    "import matplotlib.pyplot as plt\n",
    "# plt.savefig(\"tree0704.pdf\")\n",
    "plt.show()"
   ]
  }
 ],
 "metadata": {
  "kernelspec": {
   "display_name": "Python 3.10.2 64-bit",
   "language": "python",
   "name": "python3"
  },
  "language_info": {
   "codemirror_mode": {
    "name": "ipython",
    "version": 3
   },
   "file_extension": ".py",
   "mimetype": "text/x-python",
   "name": "python",
   "nbconvert_exporter": "python",
   "pygments_lexer": "ipython3",
   "version": "3.10.2"
  },
  "vscode": {
   "interpreter": {
    "hash": "26de051ba29f2982a8de78e945f0abaf191376122a1563185a90213a26c5da77"
   }
  }
 },
 "nbformat": 4,
 "nbformat_minor": 5
}
