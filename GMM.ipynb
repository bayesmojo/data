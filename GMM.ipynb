{
 "cells": [
  {
   "cell_type": "code",
   "execution_count": 1,
   "id": "656eb10d",
   "metadata": {},
   "outputs": [
    {
     "name": "stdout",
     "output_type": "stream",
     "text": [
      "     A    B\n",
      "0  1.0  1.0\n",
      "1  1.5  1.5\n",
      "2  5.0  5.0\n",
      "3  3.0  4.0\n",
      "4  4.0  4.0\n",
      "5  3.0  3.5\n",
      "6  4.0  5.0\n",
      "7  3.0  5.0\n",
      "8  5.0  6.0\n",
      "9  7.0  6.0\n"
     ]
    }
   ],
   "source": [
    "import pandas as pd\n",
    "\n",
    "data = pd.read_csv(\"HC.csv\")\n",
    "#print(data.head())\n",
    "print(data)"
   ]
  },
  {
   "cell_type": "code",
   "execution_count": 2,
   "id": "ddf90428",
   "metadata": {},
   "outputs": [],
   "source": [
    "data = data.to_numpy()\n",
    "A = data[:, 0]\n",
    "B = data[:, 1]"
   ]
  },
  {
   "cell_type": "code",
   "execution_count": 3,
   "id": "6ab925bc",
   "metadata": {},
   "outputs": [
    {
     "data": {
      "image/png": "[encoded data removed]",
      "text/plain": [
       "<Figure size 432x288 with 1 Axes>"
      ]
     },
     "metadata": {
      "needs_background": "light"
     },
     "output_type": "display_data"
    }
   ],
   "source": [
    "import matplotlib.pyplot as plt\n",
    "\n",
    "plt.scatter(A, B)\n",
    "plt.show()"
   ]
  },
  {
   "cell_type": "code",
   "execution_count": 4,
   "id": "a7594347",
   "metadata": {},
   "outputs": [
    {
     "name": "stdout",
     "output_type": "stream",
     "text": [
      "Converged: True\n"
     ]
    }
   ],
   "source": [
    "from sklearn.mixture import GaussianMixture\n",
    "\n",
    "model = GaussianMixture(n_components=2, n_init=10, init_params='kmeans').fit(data)\n",
    "print('Converged:', model.converged_) "
   ]
  },
  {
   "cell_type": "code",
   "execution_count": 5,
   "id": "8906a5cd",
   "metadata": {},
   "outputs": [
    {
     "name": "stdout",
     "output_type": "stream",
     "text": [
      "means :  \n",
      " [[4.24999965 4.81249958]\n",
      " [1.24999989 1.24999989]]\n",
      "\n",
      "\n",
      "variances :  \n",
      " [[[1.68750176 0.85937605]\n",
      "  [0.85937605 0.74609605]]\n",
      "\n",
      " [[0.062501   0.0625    ]\n",
      "  [0.0625     0.062501  ]]]\n",
      "\n",
      "\n",
      "weights :  \n",
      " [0.8000001 0.1999999]\n"
     ]
    }
   ],
   "source": [
    "print(\"means : \", '\\n', model.means_)\n",
    "print('\\n')\n",
    "print(\"variances : \", '\\n', model.covariances_)\n",
    "print('\\n')\n",
    "print(\"weights : \", '\\n', model.weights_)"
   ]
  },
  {
   "cell_type": "code",
   "execution_count": 6,
   "id": "b7ce2ad6",
   "metadata": {},
   "outputs": [
    {
     "name": "stdout",
     "output_type": "stream",
     "text": [
      "probability =  \n",
      " [[0. 1.]\n",
      " [0. 1.]\n",
      " [1. 0.]\n",
      " [1. 0.]\n",
      " [1. 0.]\n",
      " [1. 0.]\n",
      " [1. 0.]\n",
      " [1. 0.]\n",
      " [1. 0.]\n",
      " [1. 0.]]\n"
     ]
    }
   ],
   "source": [
    "prob = model.predict_proba(data) \n",
    "print(\"probability = \", '\\n', prob.round(3))"
   ]
  },
  {
   "cell_type": "code",
   "execution_count": 7,
   "id": "0f33d807",
   "metadata": {},
   "outputs": [
    {
     "name": "stdout",
     "output_type": "stream",
     "text": [
      "clustering =  [1 1 0 0 0 0 0 0 0 0]\n"
     ]
    }
   ],
   "source": [
    "label = model.fit_predict(data) \n",
    "print(\"clustering = \", label)"
   ]
  },
  {
   "cell_type": "code",
   "execution_count": null,
   "id": "07309116",
   "metadata": {},
   "outputs": [],
   "source": []
  }
 ],
 "metadata": {
  "kernelspec": {
   "display_name": "Python 3.10.2 64-bit",
   "language": "python",
   "name": "python3"
  },
  "language_info": {
   "codemirror_mode": {
    "name": "ipython",
    "version": 3
   },
   "file_extension": ".py",
   "mimetype": "text/x-python",
   "name": "python",
   "nbconvert_exporter": "python",
   "pygments_lexer": "ipython3",
   "version": "3.10.2"
  },
  "vscode": {
   "interpreter": {
    "hash": "26de051ba29f2982a8de78e945f0abaf191376122a1563185a90213a26c5da77"
   }
  }
 },
 "nbformat": 4,
 "nbformat_minor": 5
}
