{
 "cells": [
  {
   "cell_type": "code",
   "execution_count": 1,
   "id": "1ec227af",
   "metadata": {},
   "outputs": [],
   "source": [
    "import pandas as pd\n",
    "data = pd.read_csv(\"knn_c.csv\")"
   ]
  },
  {
   "cell_type": "code",
   "execution_count": 2,
   "id": "06694b17",
   "metadata": {},
   "outputs": [
    {
     "data": {
      "image/png": "[encoded data removed]",
      "text/plain": [
       "<Figure size 432x288 with 1 Axes>"
      ]
     },
     "metadata": {
      "needs_background": "light"
     },
     "output_type": "display_data"
    }
   ],
   "source": [
    "import matplotlib.pyplot as plt\n",
    "from matplotlib.colors import ListedColormap\n",
    "\n",
    "label = data.iloc[:, 2].values # size\n",
    "colors = ['red','green']\n",
    "plt.scatter(data.iloc[:, 0], data.iloc[:, 1], c=label, cmap=ListedColormap(colors))\n",
    "plt.xlabel('Height')\n",
    "plt.ylabel('Weight')\n",
    "plt.show()"
   ]
  },
  {
   "cell_type": "code",
   "execution_count": 3,
   "id": "a410fa76",
   "metadata": {},
   "outputs": [
    {
     "name": "stdout",
     "output_type": "stream",
     "text": [
      "(54, 3)\n",
      "(36, 3)\n"
     ]
    }
   ],
   "source": [
    "from sklearn.model_selection import train_test_split\n",
    "\n",
    "train, test = train_test_split(data, test_size=0.4)"
   ]
  },
  {
   "cell_type": "code",
   "execution_count": 4,
   "id": "de858f46",
   "metadata": {},
   "outputs": [],
   "source": [
    "X_train = train.iloc[:, 0:2] \n",
    "Y_train = train.iloc[:, 2] "
   ]
  },
  {
   "cell_type": "code",
   "execution_count": 5,
   "id": "e1671c80",
   "metadata": {},
   "outputs": [
    {
     "name": "stdout",
     "output_type": "stream",
     "text": [
      "KNeighborsClassifier(n_neighbors=3)\n"
     ]
    }
   ],
   "source": [
    "from sklearn.neighbors import KNeighborsClassifier\n",
    "K = 3\n",
    "model = KNeighborsClassifier(n_neighbors=K).fit(X_train, Y_train)\n",
    "print(model)"
   ]
  },
  {
   "cell_type": "code",
   "execution_count": 6,
   "id": "8a544224",
   "metadata": {},
   "outputs": [
    {
     "name": "stdout",
     "output_type": "stream",
     "text": [
      "<class 'dict'>\n",
      "[2]\n"
     ]
    }
   ],
   "source": [
    "new = {'height':[171], 'weight':[66]}\n",
    "print(type(new)) \n",
    "\n",
    "new = pd.DataFrame(new) \n",
    "pred_new = model.predict(new)\n",
    "print(pred_new)"
   ]
  },
  {
   "cell_type": "code",
   "execution_count": 7,
   "id": "88b13567",
   "metadata": {},
   "outputs": [
    {
     "name": "stdout",
     "output_type": "stream",
     "text": [
      "predicted test =  \n",
      " [2 2 1 2 2 2 2 2 1 2 2 2 1 2 2 2 1 1 2 2 1 2 2 2 2 2 2 1 2 2 2 1 1 2 2 1]\n"
     ]
    }
   ],
   "source": [
    "X_test = test.iloc[:, 0:2]\n",
    "pred_test = model.predict(X_test)\n",
    "print(\"predicted test = \", '\\n', pred_test)"
   ]
  },
  {
   "cell_type": "code",
   "execution_count": 9,
   "id": "739916ed",
   "metadata": {},
   "outputs": [
    {
     "data": {
      "text/plain": [
       "12"
      ]
     },
     "execution_count": 9,
     "metadata": {},
     "output_type": "execute_result"
    }
   ],
   "source": [
    "# how many errors\n",
    "Y_test = test.iloc[:, 2]\n",
    "abs(Y_test - pred_test).sum()"
   ]
  }
 ],
 "metadata": {
  "kernelspec": {
   "display_name": "Python 3.10.2 64-bit",
   "language": "python",
   "name": "python3"
  },
  "language_info": {
   "codemirror_mode": {
    "name": "ipython",
    "version": 3
   },
   "file_extension": ".py",
   "mimetype": "text/x-python",
   "name": "python",
   "nbconvert_exporter": "python",
   "pygments_lexer": "ipython3",
   "version": "3.10.2"
  },
  "vscode": {
   "interpreter": {
    "hash": "26de051ba29f2982a8de78e945f0abaf191376122a1563185a90213a26c5da77"
   }
  }
 },
 "nbformat": 4,
 "nbformat_minor": 5
}
